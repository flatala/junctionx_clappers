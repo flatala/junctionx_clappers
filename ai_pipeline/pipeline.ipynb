{
 "cells": [
  {
   "cell_type": "markdown",
   "id": "title",
   "metadata": {},
   "source": [
    "# Extremist Content Detection Pipeline\n",
    "\n",
    "This pipeline transcribes audio/video files using Whisper and will later analyze the content for extremist material."
   ]
  },
  {
   "cell_type": "markdown",
   "id": "017faf63",
   "metadata": {},
   "source": [
    "To run: pip install -r ai_pipeline/requirements.txt"
   ]
  },
  {
   "cell_type": "markdown",
   "id": "setup",
   "metadata": {},
   "source": [
    "## 1. Setup and Imports"
   ]
  },
  {
   "cell_type": "code",
   "execution_count": null,
   "id": "imports",
   "metadata": {},
   "outputs": [],
   "source": [
    "import whisper\n",
    "import ffmpeg\n",
    "from pathlib import Path\n",
    "import os\n",
    "from typing import Dict, Optional\n",
    "import warnings\n",
    "warnings.filterwarnings('ignore')"
   ]
  },
  {
   "cell_type": "markdown",
   "id": "model-section",
   "metadata": {},
   "source": [
    "## 2. Load Whisper Model"
   ]
  },
  {
   "cell_type": "code",
   "execution_count": null,
   "id": "load-model",
   "metadata": {},
   "outputs": [],
   "source": [
    "# Load Whisper model (base model for speed, can use 'small', 'medium', 'large' for better accuracy)\n",
    "print(\"Loading Whisper model...\")\n",
    "model = whisper.load_model(\"base\")\n",
    "print(\"Model loaded successfully!\")"
   ]
  },
  {
   "cell_type": "markdown",
   "id": "processing-section",
   "metadata": {},
   "source": [
    "## 3. Video/Audio Processing Functions"
   ]
  },
  {
   "cell_type": "code",
   "execution_count": null,
   "id": "convert-function",
   "metadata": {},
   "outputs": [],
   "source": [
    "def convert_video_to_audio(video_path: str, output_audio_path: Optional[str] = None) -> str:\n",
    "    \"\"\"\n",
    "    Convert video file to audio (wav format) using ffmpeg.\n",
    "    \n",
    "    Args:\n",
    "        video_path: Path to input video file\n",
    "        output_audio_path: Optional path for output audio file\n",
    "        \n",
    "    Returns:\n",
    "        Path to the extracted audio file\n",
    "    \"\"\"\n",
    "    video_path = Path(video_path)\n",
    "    \n",
    "    if output_audio_path is None:\n",
    "        output_audio_path = video_path.with_suffix('.wav')\n",
    "    else:\n",
    "        output_audio_path = Path(output_audio_path)\n",
    "    \n",
    "    try:\n",
    "        # Extract audio from video\n",
    "        stream = ffmpeg.input(str(video_path))\n",
    "        stream = ffmpeg.output(stream, str(output_audio_path), acodec='pcm_s16le', ac=1, ar='16k')\n",
    "        ffmpeg.run(stream, overwrite_output=True, capture_stdout=True, capture_stderr=True)\n",
    "        \n",
    "        print(f\"Converted video to audio: {output_audio_path}\")\n",
    "        return str(output_audio_path)\n",
    "    \n",
    "    except ffmpeg.Error as e:\n",
    "        print(f\"Error converting video: {e.stderr.decode()}\")\n",
    "        raise"
   ]
  },
  {
   "cell_type": "markdown",
   "id": "transcribe-section",
   "metadata": {},
   "source": [
    "## 4. Transcription Function"
   ]
  },
  {
   "cell_type": "code",
   "execution_count": null,
   "id": "transcribe-function",
   "metadata": {},
   "outputs": [],
   "source": [
    "def transcribe_file(file_path: str) -> Dict:\n",
    "    \"\"\"\n",
    "    Transcribe audio or video file using Whisper.\n",
    "    If video file is provided, it will be converted to audio first.\n",
    "    \n",
    "    Args:\n",
    "        file_path: Path to audio or video file\n",
    "        \n",
    "    Returns:\n",
    "        Dictionary containing transcription results:\n",
    "        - text: Full transcription text\n",
    "        - language: Detected language\n",
    "        - segments: List of segments with timestamps and text\n",
    "    \"\"\"\n",
    "    file_path = Path(file_path)\n",
    "    \n",
    "    # Check if file exists\n",
    "    if not file_path.exists():\n",
    "        raise FileNotFoundError(f\"File not found: {file_path}\")\n",
    "    \n",
    "    # Video extensions that need conversion\n",
    "    video_extensions = ['.mp4', '.avi', '.mov', '.mkv', '.flv', '.wmv', '.webm']\n",
    "    audio_extensions = ['.wav', '.mp3', '.m4a', '.flac', '.ogg']\n",
    "    \n",
    "    # Determine if we need to convert video to audio\n",
    "    if file_path.suffix.lower() in video_extensions:\n",
    "        print(f\"Video file detected. Converting to audio...\")\n",
    "        audio_path = convert_video_to_audio(str(file_path))\n",
    "    elif file_path.suffix.lower() in audio_extensions:\n",
    "        audio_path = str(file_path)\n",
    "    else:\n",
    "        raise ValueError(f\"Unsupported file format: {file_path.suffix}\")\n",
    "    \n",
    "    # Transcribe\n",
    "    print(f\"Transcribing: {audio_path}\")\n",
    "    result = model.transcribe(audio_path)\n",
    "    \n",
    "    # Return structured output\n",
    "    return {\n",
    "        'text': result['text'],\n",
    "        'language': result['language'],\n",
    "        'segments': result['segments']\n",
    "    }"
   ]
  },
  {
   "cell_type": "markdown",
   "id": "example-section",
   "metadata": {},
   "source": [
    "## 5. Example Usage"
   ]
  },
  {
   "cell_type": "code",
   "execution_count": null,
   "id": "example-usage",
   "metadata": {},
   "outputs": [],
   "source": [
    "# Example: Transcribe a file\n",
    "# Replace with your actual file path\n",
    "file_path = \"path/to/your/audio_or_video_file.mp4\"\n",
    "\n",
    "# Transcribe\n",
    "# result = transcribe_file(file_path)\n",
    "\n",
    "# Print results\n",
    "# print(f\"Detected language: {result['language']}\")\n",
    "# print(f\"\\nFull transcription:\\n{result['text']}\")\n",
    "# print(f\"\\nNumber of segments: {len(result['segments'])}\")"
   ]
  }
 ],
 "metadata": {
  "kernelspec": {
   "display_name": "Python 3",
   "language": "python",
   "name": "python3"
  },
  "language_info": {
   "name": "python",
   "version": "3.8.0"
  }
 },
 "nbformat": 4,
 "nbformat_minor": 5
}
